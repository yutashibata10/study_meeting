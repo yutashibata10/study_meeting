{
  "nbformat": 4,
  "nbformat_minor": 0,
  "metadata": {
    "colab": {
      "provenance": []
    },
    "kernelspec": {
      "name": "python3",
      "display_name": "Python 3"
    },
    "language_info": {
      "name": "python"
    }
  },
  "cells": [
    {
      "cell_type": "markdown",
      "source": [
        "###課題1"
      ],
      "metadata": {
        "id": "mvLIBulzoSai"
      }
    },
    {
      "cell_type": "code",
      "execution_count": null,
      "metadata": {
        "colab": {
          "base_uri": "https://localhost:8080/"
        },
        "id": "qqv6NhCKiqCn",
        "outputId": "4ef14610-cdfa-43b2-8e6c-ad9f70976da4"
      },
      "outputs": [
        {
          "output_type": "stream",
          "name": "stdout",
          "text": [
            "machine perception robotics-group!"
          ]
        }
      ],
      "source": [
        "import numpy as np\n",
        "import matplotlib.pyplot as plt\n",
        "\n",
        "a = ['m','c','i','e','p','r','e','t','o',' ','o','o','i','s','g','o','p']\n",
        "b = ['a','h','n',' ','e','c','p','i','n','r','b','t','c','-','r','u','!']\n",
        " \n",
        "text = [n+m for n, m in zip(a, b)]\n",
        "\n",
        "for ch in text:\n",
        "  print(ch,end=\"\")"
      ]
    },
    {
      "cell_type": "markdown",
      "source": [
        "### 課題2"
      ],
      "metadata": {
        "id": "VWioYL5WoQdj"
      }
    },
    {
      "cell_type": "code",
      "source": [
        "math = np.array([40, 15, 72, 22, 43, 82, 75, 7, 34, 49, 95, 75, 85, 47, 63])\n",
        "\n",
        "pas = np.count_nonzero(math > 70)\n",
        "print(pas)\n",
        "\n",
        "Z = (math - np.mean(math)) / np.std(math)\n",
        "print(Z)"
      ],
      "metadata": {
        "colab": {
          "base_uri": "https://localhost:8080/"
        },
        "id": "ZFjNI0AWk6rB",
        "outputId": "d78b97b7-c3e1-46fa-e61c-fa11cb756f5c"
      },
      "execution_count": null,
      "outputs": [
        {
          "output_type": "stream",
          "name": "stdout",
          "text": [
            "6\n",
            "[-0.52012054 -1.47622446  0.70369249 -1.20851536 -0.40538806  1.08613406\n",
            "  0.81842496 -1.78217772 -0.74958548 -0.17592312  1.5833081   0.81842496\n",
            "  1.20086653 -0.25241144  0.35949508]\n"
          ]
        }
      ]
    },
    {
      "cell_type": "markdown",
      "source": [
        "### 課題3"
      ],
      "metadata": {
        "id": "bYClECoCoOqZ"
      }
    },
    {
      "cell_type": "code",
      "source": [
        "# シグモイド関数\n",
        "def sigmoid(x):\n",
        "  return 1 / (1 + np.exp(-x))\n",
        "\n",
        "#ソフトマックス関数\n",
        "def softmax(x):\n",
        "  exp_x = np.exp(x)\n",
        "  sum_exp_x = np.sum(exp_x)\n",
        "  return exp_x / sum_exp_x\n",
        "\n",
        "#tahn関数\n",
        "def tanh(x):\n",
        "  return (np.exp(x) - np.exp(-x)) / (np.exp(x) + np.exp(-x))\n",
        "\n",
        "x = np.arange(-5.0, 5.0, 0.1)\n",
        "sig = sigmoid(x)\n",
        "sof = softmax(x)\n",
        "tan = tanh(x)\n",
        "\n",
        "plt.plot(x, sig, label='sigmoid')\n",
        "plt.plot(x, sof, label='softmax')\n",
        "plt.plot(x, tan, label='tanh')\n",
        "\n",
        "plt.grid()\n",
        "plt.legend()\n",
        "plt.title(\"result\")\n",
        "plt.xlabel(\"x\")\n",
        "plt.ylabel(\"f(x)\")\n",
        "plt.ylim(-1.2, 1.2)\n",
        "plt.show()"
      ],
      "metadata": {
        "colab": {
          "base_uri": "https://localhost:8080/",
          "height": 295
        },
        "id": "3_RcnCz1ojUM",
        "outputId": "769e5de2-f8c0-4efa-cf56-137b661a13a2"
      },
      "execution_count": null,
      "outputs": [
        {
          "output_type": "display_data",
          "data": {
            "text/plain": [
              "<Figure size 432x288 with 1 Axes>"
            ],
            "image/png": "[encoded data removed]"
          },
          "metadata": {
            "needs_background": "light"
          }
        }
      ]
    }
  ]
}